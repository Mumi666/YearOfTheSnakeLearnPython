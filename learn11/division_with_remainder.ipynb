{
 "cells": [
  {
   "metadata": {},
   "cell_type": "markdown",
   "source": [
    "# 解方程 (30 + x) / y = y 余 z\n",
    "这个方程表示 (30 + x) 除以 y 的商等于 y，余数等于 z"
   ],
   "id": "ee7700362407daff"
  },
  {
   "metadata": {
    "ExecuteTime": {
     "end_time": "2025-04-28T05:23:03.141797Z",
     "start_time": "2025-04-28T05:23:03.122625Z"
    }
   },
   "cell_type": "code",
   "source": [
    "def find_solutions(range_x, range_y):\n",
    "    solutions = []\n",
    "    for y in range(1, range_y + 1):\n",
    "        for x in range(1, range_x + 1):\n",
    "            quotient = (30 + x) // y\n",
    "            remainder = (30 + x) % y\n",
    "            d_value = (30 + x) - (remainder * 10 + y)\n",
    "\n",
    "            if quotient == y and 0 <= remainder == d_value:\n",
    "                solutions.append((x, y, remainder))\n",
    "    return solutions\n",
    "\n",
    "# 在一定范围内寻找解\n",
    "range_x = 100\n",
    "range_y = 100\n",
    "\n",
    "solutions = find_solutions(range_x, range_y)\n",
    "\n",
    "print(f\"在x范围[1, {range_x}]和y范围[1, {range_y}]内找到的解：\")\n",
    "for x, y, z in solutions:\n",
    "    print(f\"x = {x}, y = {y}, z = {z}\")\n",
    "    print(f\"验证：({30} + {x}) ÷ {y} = {y} 余 {z}\")\n",
    "    print(f\"      {30 + x} ÷ {y} = {y} 余 {z}\")\n",
    "    print"
   ],
   "id": "c925f54be4420646",
   "outputs": [
    {
     "name": "stdout",
     "output_type": "stream",
     "text": [
      "在x范围[1, 100]和y范围[1, 100]内找到的解：\n",
      "x = 9, y = 6, z = 3\n",
      "验证：(30 + 9) ÷ 6 = 6 余 3\n",
      "      39 ÷ 6 = 6 余 3\n",
      "x = 79, y = 10, z = 9\n",
      "验证：(30 + 79) ÷ 10 = 10 余 9\n",
      "      109 ÷ 10 = 10 余 9\n"
     ]
    }
   ],
   "execution_count": 4
  },
  {
   "metadata": {},
   "cell_type": "markdown",
   "source": [
    "## 解释\n",
    "- `(30 + x) // y` 计算整除的商\n",
    "- `(30 + x) % y` 计算余数\n",
    "- 我们寻找满足以下条件的解：\n",
    "  1. 商恰好等于除数y\n",
    "  2. 余数为非负数z\n",
    "  3. x和y都在指定范围内"
   ],
   "id": "11603a29b7ddd57e"
  },
  {
   "metadata": {},
   "cell_type": "code",
   "outputs": [],
   "execution_count": null,
   "source": [
    "# 验证某个具体解是否正确\n",
    "def verify_solution(x, y):\n",
    "    quotient = (30 + x) // y\n",
    "    remainder = (30 + x) % y\n",
    "    print(f\"对于 x = {x}, y = {y}:\")\n",
    "    print(f\"({30} + {x}) ÷ {y} = {quotient} 余 {remainder}\")\n",
    "    if quotient == y:\n",
    "        print(\"这是一个有效解！余数 z =\", remainder)\n",
    "    else:\n",
    "        print(\"这不是一个有效解\")\n",
    "\n",
    "# 你可以用这个函数验证任何你想测试的值\n",
    "# 例如，验证第一个找到的解（如果有的话）\n",
    "if solutions:\n",
    "    x, y, z = solutions[0]\n",
    "    verify_solution(x, y)"
   ],
   "id": "be2bb7e1e1795e18"
  }
 ],
 "metadata": {
  "kernelspec": {
   "display_name": "Python 3",
   "language": "python",
   "name": "python3"
  },
  "language_info": {
   "codemirror_mode": {
    "name": "ipython",
    "version": 2
   },
   "file_extension": ".py",
   "mimetype": "text/x-python",
   "name": "python",
   "nbconvert_exporter": "python",
   "pygments_lexer": "ipython2",
   "version": "2.7.6"
  }
 },
 "nbformat": 4,
 "nbformat_minor": 5
}
