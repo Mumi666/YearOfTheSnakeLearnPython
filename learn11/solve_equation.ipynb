{
 "cells": [
  {
   "metadata": {},
   "cell_type": "markdown",
   "source": [
    "# 解方程 (30 + x) / y = z + y\n",
    "使用 Python 的 SymPy"
   ],
   "id": "d5d1ff273df55391"
  },
  {
   "metadata": {},
   "cell_type": "code",
   "outputs": [],
   "execution_count": null,
   "source": [
    "from sympy import symbols, solve\n",
    "\n",
    "x, y, z = symbols('x y z')\n",
    "\n",
    "equation = (30 + x)/y - (z + y)\n",
    "\n",
    "solution = solve(equation)\n",
    "\n",
    "print(\"方程的解为：\")\n",
    "print(solution)"
   ],
   "id": "129de561690a9f71"
  },
  {
   "metadata": {},
   "cell_type": "markdown",
   "source": "注意：这个方程有无数组解，因为我们有三个未知数（x, y, z）但只有一个方程。我们需要额外的条件才能得到唯一解。",
   "id": "62a557a189c460b9"
  },
  {
   "metadata": {},
   "cell_type": "code",
   "outputs": [],
   "execution_count": null,
   "source": [
    "y_val = 2\n",
    "z_val = 3\n",
    "\n",
    "x_val = y_val * (z_val + y_val) - 30\n",
    "print(f\"当 y = {y_val}, z = {z_val} 时：\")\n",
    "print(f\"x = {x_val}\")\n",
    "print(f\"验证：({30} + {x_val}) / {y_val} = {z_val} + {y_val}\")\n",
    "print(f\"     {(30 + x_val) / y_val} = {z_val + y_val}\")"
   ],
   "id": "674e391a104f724d"
  }
 ],
 "metadata": {
  "kernelspec": {
   "display_name": "Python 3",
   "language": "python",
   "name": "python3"
  },
  "language_info": {
   "codemirror_mode": {
    "name": "ipython",
    "version": 2
   },
   "file_extension": ".py",
   "mimetype": "text/x-python",
   "name": "python",
   "nbconvert_exporter": "python",
   "pygments_lexer": "ipython2",
   "version": "2.7.6"
  }
 },
 "nbformat": 4,
 "nbformat_minor": 5
}
